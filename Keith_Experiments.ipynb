{
  "nbformat": 4,
  "nbformat_minor": 0,
  "metadata": {
    "colab": {
      "provenance": [],
      "authorship_tag": "ABX9TyMCRYHFudgyCG8wweZQ5GPH",
      "include_colab_link": true
    },
    "kernelspec": {
      "name": "python3",
      "display_name": "Python 3"
    },
    "language_info": {
      "name": "python"
    }
  },
  "cells": [
    {
      "cell_type": "markdown",
      "metadata": {
        "id": "view-in-github",
        "colab_type": "text"
      },
      "source": [
        "<a href=\"https://colab.research.google.com/github/Tkei-54/Tkei-54/blob/main/Keith_Experiments.ipynb\" target=\"_parent\"><img src=\"https://colab.research.google.com/assets/colab-badge.svg\" alt=\"Open In Colab\"/></a>"
      ]
    },
    {
      "cell_type": "code",
      "execution_count": null,
      "metadata": {
        "id": "nRffbcAP4kES",
        "colab": {
          "base_uri": "https://localhost:8080/"
        },
        "outputId": "390433d8-0eee-4ee9-adc3-271b2e6d3f6c"
      },
      "outputs": [
        {
          "output_type": "stream",
          "name": "stdout",
          "text": [
            "I like burgers\n"
          ]
        }
      ],
      "source": [
        "# 4/3/25\n",
        "print(\"I like burgers\")"
      ]
    },
    {
      "cell_type": "code",
      "source": [],
      "metadata": {
        "id": "8XAM_5ofZe9r"
      },
      "execution_count": null,
      "outputs": []
    },
    {
      "cell_type": "code",
      "source": [
        "print(\"It's really good!\")"
      ],
      "metadata": {
        "colab": {
          "base_uri": "https://localhost:8080/"
        },
        "id": "rmAoZUlvI-b0",
        "outputId": "eb856a7e-4da7-4458-df12-18d503a7be96"
      },
      "execution_count": null,
      "outputs": [
        {
          "output_type": "stream",
          "name": "stdout",
          "text": [
            "It's really good!\n"
          ]
        }
      ]
    },
    {
      "cell_type": "code",
      "source": [
        "#These are strings\n",
        "first_name = \"Keith\"\n",
        "food = \"burgers\"\n",
        "email = \"keithtongi54@gmail.com\"\n",
        "print(first_name)\n",
        "print (f\"Hello {first_name}\")\n",
        "print(f\"I like {food}\")\n",
        "print(f\"My email is {email}\")"
      ],
      "metadata": {
        "colab": {
          "base_uri": "https://localhost:8080/"
        },
        "id": "Sz62gNxhJFfV",
        "outputId": "84efafb3-0cba-4dca-ecec-1017f5c2ccfa"
      },
      "execution_count": null,
      "outputs": [
        {
          "output_type": "stream",
          "name": "stdout",
          "text": [
            "Keith\n",
            "Hello Keith\n",
            "I like burgers\n",
            "My email is keithtongi54@gmail.com\n"
          ]
        }
      ]
    },
    {
      "cell_type": "code",
      "source": [
        "# These are integers\n",
        "age = 27\n",
        "quantity = 3\n",
        "number_of_children = 1\n",
        "print (f\"I am {age} years old\")\n",
        "print (f\"I am buying {quantity} pairs of glasses\")\n",
        "print (f\"She has {number_of_children} child\")"
      ],
      "metadata": {
        "colab": {
          "base_uri": "https://localhost:8080/"
        },
        "id": "vK-5PhgZJip-",
        "outputId": "46b5ade9-66d3-4f61-94a7-8d0d0299669d"
      },
      "execution_count": null,
      "outputs": [
        {
          "output_type": "stream",
          "name": "stdout",
          "text": [
            "I am 27 years old\n",
            "I am buying 3 pairs of glasses\n",
            "She has 1 child\n"
          ]
        }
      ]
    },
    {
      "cell_type": "code",
      "source": [
        "# These are floats\n",
        "price = 120.25\n",
        "gpa = 3.8\n",
        "distance = 350.8\n",
        "print (f\"The price of the watermelon is KES {price}\")\n",
        "print (f\"I can get the Schwarzman scholarship to Tsinghua despite a gpa of {gpa}\")\n",
        "print (f\"Kisii is {distance} kilometres from Nairobi\")"
      ],
      "metadata": {
        "colab": {
          "base_uri": "https://localhost:8080/"
        },
        "id": "0Ipr41uvLLWm",
        "outputId": "4f3a1d92-9c94-4360-889e-82d7ee07db8f"
      },
      "execution_count": null,
      "outputs": [
        {
          "output_type": "stream",
          "name": "stdout",
          "text": [
            "The price of the watermelon is KES 120.25\n",
            "I can get the Schwarzman scholarship to Tsinghua despite a gpa of 3.8\n",
            "Kisii is 350.8 kilometres from Nairobi\n"
          ]
        }
      ]
    },
    {
      "cell_type": "code",
      "source": [
        "# These are booleans\n",
        "is_student = True\n",
        "for_sale = True\n",
        "is_hungry = True\n",
        "print(f\"Are you a student? {is_student}\")\n",
        "if for_sale:\n",
        "    print(\"This item is for sale\")\n",
        "else:\n",
        "    print(\"This item is not for sale\")\n",
        "print(f\"Are you hungry? {is_hungry}\")"
      ],
      "metadata": {
        "colab": {
          "base_uri": "https://localhost:8080/"
        },
        "id": "D_UbAscLMKAB",
        "outputId": "669e713f-bc45-48b2-82e6-f6aee447b274"
      },
      "execution_count": null,
      "outputs": [
        {
          "output_type": "stream",
          "name": "stdout",
          "text": [
            "Are you a student? True\n",
            "This item is for sale\n",
            "Are you hungry? True\n"
          ]
        }
      ]
    },
    {
      "cell_type": "code",
      "source": [
        "# Typecasting\n",
        "name = \"Keith Tongi\"\n",
        "age = 27\n",
        "gpa = 3.2\n",
        "is_student = True\n",
        "\n",
        "gpa = int(gpa)\n",
        "print(gpa)\n",
        "age = float(age)\n",
        "print(age)\n",
        "is_student = str(is_student)\n",
        "print(is_student)\n",
        "name = bool(name)\n",
        "print(name)"
      ],
      "metadata": {
        "colab": {
          "base_uri": "https://localhost:8080/"
        },
        "id": "-PJ7inJbM5O3",
        "outputId": "8a3d4cdf-95a6-4911-ac40-df3b439929b0"
      },
      "execution_count": null,
      "outputs": [
        {
          "output_type": "stream",
          "name": "stdout",
          "text": [
            "3\n",
            "27.0\n",
            "True\n",
            "True\n"
          ]
        }
      ]
    },
    {
      "cell_type": "code",
      "source": [
        "#Input\n",
        "name = input(\"What is your name? \")\n",
        "print(f\"Hello {name}\")\n",
        "age = int(input(\"How old are you? \"))\n",
        "print (\"Happy birthday!\")\n",
        "print(f\"You are {age} years old\")\n",
        "print(f\"Next year, you will be {age + 1} years old\")"
      ],
      "metadata": {
        "colab": {
          "base_uri": "https://localhost:8080/"
        },
        "id": "8Wu2-dRFevVn",
        "outputId": "7e2a1aed-61bc-4231-92c8-d03b49b9c463"
      },
      "execution_count": null,
      "outputs": [
        {
          "output_type": "stream",
          "name": "stdout",
          "text": [
            "What is your name? Keith\n",
            "Hello Keith\n",
            "How old are you? 27\n",
            "Happy birthday!\n",
            "You are 27 years old\n",
            "Next year, you will be 28 years old\n"
          ]
        }
      ]
    },
    {
      "cell_type": "code",
      "source": [
        "#Area of a rectangle\n",
        "length = float(input(\"What is the length of the rectangle? \"))\n",
        "width = float(input(\"What is the width of the rectangle? \"))\n",
        "area = length * width\n",
        "print(f\"The area of the rectangle is {area}\")\n"
      ],
      "metadata": {
        "colab": {
          "base_uri": "https://localhost:8080/"
        },
        "id": "g8I-f9_UgRHm",
        "outputId": "db6276a9-2374-49e4-905a-72d1022b0c78"
      },
      "execution_count": null,
      "outputs": [
        {
          "output_type": "stream",
          "name": "stdout",
          "text": [
            "What is the length of the rectangle? 6.7\n",
            "What is the width of the rectangle? 7.9\n",
            "The area of the rectangle is 52.93000000000001\n"
          ]
        }
      ]
    },
    {
      "cell_type": "code",
      "source": [
        "# Shopping cart program\n",
        "item = input(\"What item would you like to buy? \")\n",
        "price = float(input(\"What is the price of the item? \"))\n",
        "quantity = int(input(\"How many would you like to buy? \"))\n",
        "total = price * quantity\n",
        "print(f\"You have bought {quantity} x {item} for KES {total}\")"
      ],
      "metadata": {
        "colab": {
          "base_uri": "https://localhost:8080/"
        },
        "id": "nL9SB9QfieZV",
        "outputId": "b48e7834-e5bc-4cd9-bba3-cf239b7b9d34"
      },
      "execution_count": null,
      "outputs": [
        {
          "output_type": "stream",
          "name": "stdout",
          "text": [
            "What item would you like to buy? bouquet of flowers for Loise Lane\n",
            "What is the price of the item? 1000\n",
            "How many would you like to buy? 1\n",
            "You have bought 1 x bouquet of flowers for Loise Lane for KES 1000.0\n"
          ]
        }
      ]
    },
    {
      "cell_type": "code",
      "source": [
        "#Madlibs Game\n",
        "adjective1 = input(\"Enter an adjective: \")\n",
        "noun1 = input(\"Enter a noun: \")\n",
        "adjective2 = input(\"Enter another adjective: \")\n",
        "print(f\"On Saturday I went to an {adjective1} restaurant with {noun1}\")\n",
        "print(f\"In the restaurant, the menu had {adjective2} prices\")\n",
        "print(f\"I'm kinda glad {noun1} was feeling unwell because i thought the bill would be crazy\")\n",
        "print(f\"I know i shouldn't be happy, but i was\")"
      ],
      "metadata": {
        "colab": {
          "base_uri": "https://localhost:8080/"
        },
        "id": "3NQb3kz3kYw-",
        "outputId": "0b537718-c5cc-47be-f883-944c6e835f68"
      },
      "execution_count": null,
      "outputs": [
        {
          "output_type": "stream",
          "name": "stdout",
          "text": [
            "Enter an adjective: expensive\n",
            "Enter a noun: Loise Lane\n",
            "Enter another adjective: crazy\n",
            "On Saturday I went to an expensive restaurant with Loise Lane\n",
            "In the restaurant, the menu had crazy prices\n",
            "I'm kinda glad Loise Lane was feeling unwell because i thought the bill would be crazy\n",
            "I know i shouldn't be happy, but i was\n"
          ]
        }
      ]
    },
    {
      "cell_type": "code",
      "source": [
        "#basic arithmetic operators\n",
        "friends = 10\n",
        "friends += 1\n",
        "print (friends)\n",
        "friends -= 2\n",
        "print (friends)\n",
        "friends *= 3\n",
        "print (friends)\n",
        "friends /= 2\n",
        "print (friends)\n",
        "friends **= 2\n",
        "print (friends)\n",
        "friends //= 2\n",
        "print (friends)\n",
        "friends %= 2\n",
        "print (friends)"
      ],
      "metadata": {
        "colab": {
          "base_uri": "https://localhost:8080/"
        },
        "id": "JgF6KY--oE-Q",
        "outputId": "d894c524-51e9-45c7-c230-88180807e2b4"
      },
      "execution_count": null,
      "outputs": [
        {
          "output_type": "stream",
          "name": "stdout",
          "text": [
            "11\n",
            "9\n",
            "27\n",
            "13.5\n",
            "182.25\n",
            "91.0\n",
            "1.0\n"
          ]
        }
      ]
    },
    {
      "cell_type": "code",
      "source": [
        "#built in mathematical functions\n",
        "x = 3.14\n",
        "y = 4\n",
        "z = 5\n",
        "print(round(x))\n",
        "print(abs(x))\n",
        "print(pow(y,z))\n",
        "print(max(x,y,z))\n",
        "print(min(x,y,z))"
      ],
      "metadata": {
        "colab": {
          "base_uri": "https://localhost:8080/"
        },
        "id": "6040FFOwspwN",
        "outputId": "9690a36b-09ec-40b4-a01c-f2ba6bc1b518"
      },
      "execution_count": null,
      "outputs": [
        {
          "output_type": "stream",
          "name": "stdout",
          "text": [
            "3\n",
            "3.14\n",
            "1024\n",
            "5\n",
            "3.14\n"
          ]
        }
      ]
    },
    {
      "cell_type": "code",
      "source": [
        "import math"
      ],
      "metadata": {
        "id": "Evv8Z7eBr15p"
      },
      "execution_count": null,
      "outputs": []
    },
    {
      "cell_type": "code",
      "source": [
        "print (math.pi)\n",
        "print(math.e)\n",
        "x = 9\n",
        "result = math.sqrt(x)\n",
        "print (result)"
      ],
      "metadata": {
        "colab": {
          "base_uri": "https://localhost:8080/"
        },
        "id": "r7Hm1YnqtaBz",
        "outputId": "725d951a-2e9f-4eaa-ec82-5e96c51f5dae"
      },
      "execution_count": null,
      "outputs": [
        {
          "output_type": "stream",
          "name": "stdout",
          "text": [
            "3.141592653589793\n",
            "2.718281828459045\n",
            "3.0\n"
          ]
        }
      ]
    },
    {
      "cell_type": "code",
      "source": [
        "radius = float(input(\"What is the radius of the circle? \"))\n",
        "area = math.pi * (radius ** 2)\n",
        "print(f\"The area of the circle is {area}\")\n",
        "circumference = 2 * math.pi * radius\n",
        "print(f\"The circumference of the circle is {circumference}\")"
      ],
      "metadata": {
        "colab": {
          "base_uri": "https://localhost:8080/"
        },
        "id": "SJYZePhYt10Z",
        "outputId": "4e2196f3-8312-414d-87bd-521854c102c7"
      },
      "execution_count": null,
      "outputs": [
        {
          "output_type": "stream",
          "name": "stdout",
          "text": [
            "What is the radius of the circle? 14\n",
            "The area of the circle is 615.7521601035994\n",
            "The circumference of the circle is 87.96459430051421\n"
          ]
        }
      ]
    },
    {
      "cell_type": "code",
      "source": [
        "a = float(input(\"Enter side A\"))\n",
        "b = float(input(\"Enter side B\"))\n",
        "c = math.sqrt(a**2 + b**2)\n",
        "print(f\"The hypotenuse of the triangle is {c} cm\")"
      ],
      "metadata": {
        "colab": {
          "base_uri": "https://localhost:8080/"
        },
        "id": "xvxMleiCupuB",
        "outputId": "b3e8edf7-b4c1-4c72-bd99-8619051e0419"
      },
      "execution_count": null,
      "outputs": [
        {
          "output_type": "stream",
          "name": "stdout",
          "text": [
            "Enter side A3\n",
            "Enter side B4\n",
            "The hypotenuse of the triangle is 5.0 cm\n"
          ]
        }
      ]
    },
    {
      "cell_type": "code",
      "source": [
        "# Control flows elif and if statements\n",
        "age = float(input(\"How old are you? \"))\n",
        "if age >= 28:\n",
        "    print(\"You are a millenial\")\n",
        "elif age >= 15:\n",
        "    print(\"You are a Gen Z\")\n",
        "else:\n",
        "    print(\"You are a child\")"
      ],
      "metadata": {
        "colab": {
          "base_uri": "https://localhost:8080/"
        },
        "id": "u2nBiNQHvGtC",
        "outputId": "4309d3ab-9e1c-49f6-e08c-c21d1c18694b"
      },
      "execution_count": null,
      "outputs": [
        {
          "output_type": "stream",
          "name": "stdout",
          "text": [
            "How old are you? 27\n",
            "You are a Gen Z\n"
          ]
        }
      ]
    },
    {
      "cell_type": "code",
      "source": [
        "response = input(\"Would you like some nyama choma? (Y/N):\")\n",
        "if response == \"Y\":\n",
        "    print(\"Have some nyama choma\")\n",
        "else:\n",
        "    print(\"Cuddle with your man\")\n"
      ],
      "metadata": {
        "colab": {
          "base_uri": "https://localhost:8080/"
        },
        "id": "DgzNUwpJwelR",
        "outputId": "332fb4f2-c5d7-4b56-d26b-b210a31928d6"
      },
      "execution_count": null,
      "outputs": [
        {
          "output_type": "stream",
          "name": "stdout",
          "text": [
            "Would you like some nyama choma? (Y/N):N\n",
            "Cuddle with your man\n"
          ]
        }
      ]
    },
    {
      "cell_type": "code",
      "source": [
        "for_sale = False\n",
        "if for_sale:\n",
        "  print (\"This item is for sale\")\n",
        "else:\n",
        "  print (\"This item is not for sale\")"
      ],
      "metadata": {
        "colab": {
          "base_uri": "https://localhost:8080/"
        },
        "id": "bww_veoXz22w",
        "outputId": "80fe3aa9-f0de-4a8e-a3bb-c5ad9a1b4512"
      },
      "execution_count": null,
      "outputs": [
        {
          "output_type": "stream",
          "name": "stdout",
          "text": [
            "This item is not for sale\n"
          ]
        }
      ]
    },
    {
      "cell_type": "code",
      "source": [
        "#python calculator\n",
        "operator = input(\"Enter an operator (+, -, *, /): \")\n",
        "num1 = float(input(\"Enter the first number: \"))\n",
        "num2 = float(input(\"Enter the second number: \"))\n",
        "if operator == \"+\":\n",
        "    print(num1 + num2)\n",
        "elif operator == \"-\":\n",
        "    print(num1 - num2)\n",
        "elif operator == \"*\":\n",
        "    print(num1 * num2)\n",
        "elif operator == \"/\":\n",
        "  print(num1 / num2)\n",
        "else:\n",
        "  print(\"Invalid operator\")"
      ],
      "metadata": {
        "colab": {
          "base_uri": "https://localhost:8080/"
        },
        "id": "B6hBN7WH0hrA",
        "outputId": "59f1065d-59fb-4468-f476-21805f76ea49"
      },
      "execution_count": null,
      "outputs": [
        {
          "output_type": "stream",
          "name": "stdout",
          "text": [
            "Enter an operator (+, -, *, /): **\n",
            "Enter the first number: 5\n",
            "Enter the second number: 4\n",
            "Invalid operator\n"
          ]
        }
      ]
    },
    {
      "cell_type": "code",
      "source": [
        "#python weight converter\n",
        "weight = float(input(\"Enter your weight: \"))\n",
        "unit = input(\"Enter the unit of measurement (L/K): \")\n",
        "if unit == \"L\":\n",
        "    print(f\"Your weight in kilograms is {weight * 0.45}\")\n",
        "elif unit == \"K\":\n",
        "    print(f\"Your weight in pounds is {weight * 2.20}\")\n",
        "else:\n",
        "  print (\"Invalid unit of measurement\")"
      ],
      "metadata": {
        "colab": {
          "base_uri": "https://localhost:8080/"
        },
        "id": "TybTrWpR2BKx",
        "outputId": "c431223c-c384-448e-ed2c-4f98150e57e4"
      },
      "execution_count": null,
      "outputs": [
        {
          "output_type": "stream",
          "name": "stdout",
          "text": [
            "Enter your weight: 68.5\n",
            "Enter the unit of measurement (L/K): K\n",
            "Your weight in pounds is 150.70000000000002\n"
          ]
        }
      ]
    },
    {
      "cell_type": "code",
      "source": [
        "#python temperature converter\n",
        "unit = input(\"Enter the unit of measurement (C/F): \")\n",
        "if unit == \"C\":\n",
        "    temp = float(input(\"Enter the temperature in Celsius: \"))\n",
        "    print(f\"The temperature in Fahrenheit is {temp * 9/5 + 32}\")\n",
        "elif unit == \"F\":\n",
        "    temp = float(input(\"Enter the temperature in Fahrenheit: \"))\n",
        "    print(f\"The temperature in Celsius is {(temp - 32) * 5/9}\")\n",
        "else:\n",
        "  print (\"Invalid unit of measurement\")"
      ],
      "metadata": {
        "colab": {
          "base_uri": "https://localhost:8080/"
        },
        "id": "X9Jyf0Sd3DVV",
        "outputId": "94c540bd-7bbe-4109-d417-aa433b1282ec"
      },
      "execution_count": null,
      "outputs": [
        {
          "output_type": "stream",
          "name": "stdout",
          "text": [
            "Enter the unit of measurement (C/F): F\n",
            "Enter the temperature in Fahrenheit: 98\n",
            "The temperature in Celsius is 36.666666666666664\n"
          ]
        }
      ]
    },
    {
      "cell_type": "code",
      "source": [
        "#Logical Operators (and/or/not)\n",
        "temperature = 36\n",
        "is_raining = False\n",
        "if temperature > 35 and is_raining:\n",
        "   print(\"The outdoor event is cancelled\")\n",
        "else:\n",
        "  print(\"The outdoor event is scheduled\")"
      ],
      "metadata": {
        "id": "rqDHERE24A5f",
        "colab": {
          "base_uri": "https://localhost:8080/"
        },
        "outputId": "280a0f08-2691-46a7-d4bb-c3cfc70ffb92"
      },
      "execution_count": null,
      "outputs": [
        {
          "output_type": "stream",
          "name": "stdout",
          "text": [
            "The outdoor event is scheduled\n"
          ]
        }
      ]
    },
    {
      "cell_type": "code",
      "source": [
        "#Ternary Operators\n",
        "number = 2\n",
        "a = 6\n",
        "b = 8\n",
        "age = 18\n",
        "\n",
        "#can_vote = True if age >= 18 else False\n",
        "#print(can_vote)\n",
        "#result = a if a > b else b\n",
        "#print(result)\n",
        "#print(\"Positive\" if number >= 5 else \"Negative\")\n",
        "#print(\"Even\" if number %2 == 0 else \"Odd\")"
      ],
      "metadata": {
        "colab": {
          "base_uri": "https://localhost:8080/"
        },
        "id": "SHzMeAXc-EFG",
        "outputId": "da30ac7c-8c5f-49de-a580-c52b8143e7c6"
      },
      "execution_count": null,
      "outputs": [
        {
          "output_type": "stream",
          "name": "stdout",
          "text": [
            "True\n"
          ]
        }
      ]
    },
    {
      "cell_type": "code",
      "source": [
        "#String methods\n",
        "name = input(\"Enter your name: \")\n",
        "#result = len(name)\n",
        "#result = name.find(\" \")\n",
        "#result = name.replace(\"Keith\", \"John\")\n",
        "#result = name.rfind(\"o\")\n",
        "print(result)"
      ],
      "metadata": {
        "colab": {
          "base_uri": "https://localhost:8080/"
        },
        "id": "r9vywXWnLAm2",
        "outputId": "6619c407-3554-4b4b-b3ee-92a2d9fc66ba"
      },
      "execution_count": null,
      "outputs": [
        {
          "output_type": "stream",
          "name": "stdout",
          "text": [
            "Enter your name: Keith Tongi\n",
            "7\n"
          ]
        }
      ]
    },
    {
      "cell_type": "code",
      "source": [
        "#String Indexing\n",
        "credit_number = \"1234-5678-9012-3456-7890\"\n",
        "#print(credit_number[0:4])\n",
        "#print(credit_number[0:4:2])\n",
        "print(credit_number[::-1])"
      ],
      "metadata": {
        "colab": {
          "base_uri": "https://localhost:8080/"
        },
        "id": "MGZ09PxPOh3H",
        "outputId": "7a377528-07e5-45fd-93af-1592b4d36db8"
      },
      "execution_count": null,
      "outputs": [
        {
          "output_type": "stream",
          "name": "stdout",
          "text": [
            "0987-6543-2109-8765-4321\n"
          ]
        }
      ]
    },
    {
      "cell_type": "code",
      "source": [
        "#Format specifiers\n",
        "price1 = 3678.142\n",
        "price2 = -99887.6\n",
        "price3 = 12556.34\n",
        "print(f\"The price1 is $ {price1:10,.1f}\")\n",
        "print(f\"The price2 is $ {price2:10,.1f}\")\n",
        "print(f\"The price3 is $ {price3:10,.1f}\")"
      ],
      "metadata": {
        "colab": {
          "base_uri": "https://localhost:8080/"
        },
        "id": "LliHkYi6QelL",
        "outputId": "e47844e2-e031-4940-c17c-1de63a4b68b9"
      },
      "execution_count": null,
      "outputs": [
        {
          "output_type": "stream",
          "name": "stdout",
          "text": [
            "The price1 is $    3,678.1\n",
            "The price2 is $  -99,887.6\n",
            "The price3 is $   12,556.3\n"
          ]
        }
      ]
    },
    {
      "cell_type": "code",
      "source": [
        "#While loops\n",
        "name = input(\"Enter your name: \")\n",
        "\n",
        "while name == \"\":\n",
        "  print(\"Name cannot be empty\")\n",
        "  name = input(\"Enter your name: \")\n",
        "else:\n",
        "  print(f\"Hello {name}\")"
      ],
      "metadata": {
        "colab": {
          "base_uri": "https://localhost:8080/"
        },
        "id": "mJv7JPR9SLkQ",
        "outputId": "a1565d58-1c6e-4d52-8405-f7e993cc3f8f"
      },
      "execution_count": null,
      "outputs": [
        {
          "output_type": "stream",
          "name": "stdout",
          "text": [
            "Enter your name: \n",
            "Name cannot be empty\n",
            "Enter your name: \n",
            "Name cannot be empty\n",
            "Enter your name: \n",
            "Name cannot be empty\n",
            "Enter your name: \n",
            "Name cannot be empty\n",
            "Enter your name: Keith\n",
            "Hello Keith\n"
          ]
        }
      ]
    },
    {
      "cell_type": "code",
      "source": [],
      "metadata": {
        "id": "diflVfBXb6IA"
      },
      "execution_count": null,
      "outputs": []
    },
    {
      "cell_type": "code",
      "source": [
        "age = int(input(\"Enter your age: \"))\n",
        "while age < 0:\n",
        "  print(\"Age cannot be negative\")\n",
        "  age = int(input(\"Enter your age: \"))\n",
        "else:\n",
        "  print(f\"You are {age} years old\")"
      ],
      "metadata": {
        "colab": {
          "base_uri": "https://localhost:8080/"
        },
        "id": "CVMZeKeHS2KQ",
        "outputId": "a0fa14c2-fdee-484d-da83-aa38c4da24d9"
      },
      "execution_count": null,
      "outputs": [
        {
          "output_type": "stream",
          "name": "stdout",
          "text": [
            "Enter your age: 27\n",
            "You are 27 years old\n"
          ]
        }
      ]
    },
    {
      "cell_type": "code",
      "source": [
        "food = input(\"Enter a food you like (q to quit): \")\n",
        "while not food == \"q\":\n",
        "  print(f\"You like {food}\")\n",
        "  food = input(\"Enter another food you like (q to quit): \")\n",
        "else:\n",
        "  print(\"Goodbye\")"
      ],
      "metadata": {
        "colab": {
          "base_uri": "https://localhost:8080/"
        },
        "id": "rSm01ywPTNhJ",
        "outputId": "e4259013-9add-4c85-ca74-ecc76f170d1f"
      },
      "execution_count": null,
      "outputs": [
        {
          "output_type": "stream",
          "name": "stdout",
          "text": [
            "Enter a food you like (q to quit): chapati\n",
            "You like chapati\n",
            "Enter another food you like (q to quit): chips\n",
            "You like chips\n",
            "Enter another food you like (q to quit): nyamachoma\n",
            "You like nyamachoma\n",
            "Enter another food you like (q to quit): q\n",
            "Goodbye\n"
          ]
        }
      ]
    },
    {
      "cell_type": "code",
      "source": [
        "num = input(\"Enter a # between 1 and 10: \")\n",
        "while not num.isdigit() or int(num) < 1 or int(num) > 10:\n",
        "  print(\"Invalid input\")\n",
        "  num = input(\"Enter a # between 1 and 10: \")\n",
        "  print(f\"You entered {num}\")"
      ],
      "metadata": {
        "colab": {
          "base_uri": "https://localhost:8080/"
        },
        "id": "cCIU0woMT8nI",
        "outputId": "364ec309-9e83-495f-d586-c1323ab84862"
      },
      "execution_count": null,
      "outputs": [
        {
          "output_type": "stream",
          "name": "stdout",
          "text": [
            "Enter a # between 1 and 10: 20\n",
            "Invalid input\n",
            "Enter a # between 1 and 10: 9\n",
            "You entered 9\n"
          ]
        }
      ]
    },
    {
      "cell_type": "code",
      "source": [
        "#Python compound interest calculator\n",
        "principle = float(input(\"Enter the principle amount: \"))\n",
        "while principle < 0:\n",
        "  print(\"Invalid input\")\n",
        "  principle = float(input(\"Enter the principle amount: \"))\n",
        "rate = float(input(\"Enter the annual interest rate: \"))\n",
        "while rate < 0:\n",
        "  print(\"Invalid input\")\n",
        "  rate = float(input(\"Enter the annual interest rate: \"))\n",
        "time = float(input(\"Enter the number of years: \"))\n",
        "while time < 0:\n",
        "  print(\"Invalid input\")\n",
        "  time = float(input(\"Enter the number of years: \"))\n",
        "amount = principle * (1 + rate/100) ** time\n",
        "print(f\"The amount after {time} years is KES {amount:,.2f}\")"
      ],
      "metadata": {
        "colab": {
          "base_uri": "https://localhost:8080/"
        },
        "id": "19vUuscdUaYU",
        "outputId": "5ed2cb4e-48b7-4818-a433-858148b061ef"
      },
      "execution_count": null,
      "outputs": [
        {
          "output_type": "stream",
          "name": "stdout",
          "text": [
            "Enter the principle amount: 100000\n",
            "Enter the annual interest rate: 9.7\n",
            "Enter the number of years: 10\n",
            "The amount after 10.0 years is KES 252,386.59\n"
          ]
        }
      ]
    },
    {
      "cell_type": "code",
      "source": [
        "#For Loops\n",
        "for x in reversed(range(1,11)):\n",
        "  print(x)\n",
        "print(\"Happy New Year\")"
      ],
      "metadata": {
        "colab": {
          "base_uri": "https://localhost:8080/"
        },
        "id": "DbSYS-z0WGQD",
        "outputId": "2d93c681-f70e-4ea7-ca0c-eafadd286993"
      },
      "execution_count": null,
      "outputs": [
        {
          "output_type": "stream",
          "name": "stdout",
          "text": [
            "10\n",
            "9\n",
            "8\n",
            "7\n",
            "6\n",
            "5\n",
            "4\n",
            "3\n",
            "2\n",
            "1\n",
            "Happy New Year\n"
          ]
        }
      ]
    },
    {
      "cell_type": "code",
      "source": [
        "for x in range(1,11):\n",
        "  if x == 5:\n",
        "    continue\n",
        "  else:\n",
        "    print(x)\n",
        "print(\"Happy New Year\")"
      ],
      "metadata": {
        "colab": {
          "base_uri": "https://localhost:8080/"
        },
        "id": "plqdcK-kXPAB",
        "outputId": "c4532fb3-f022-4d81-828e-c8248d28d737"
      },
      "execution_count": null,
      "outputs": [
        {
          "output_type": "stream",
          "name": "stdout",
          "text": [
            "1\n",
            "2\n",
            "3\n",
            "4\n",
            "6\n",
            "7\n",
            "8\n",
            "9\n",
            "10\n",
            "Happy New Year\n"
          ]
        }
      ]
    },
    {
      "cell_type": "code",
      "source": [
        "import time"
      ],
      "metadata": {
        "id": "hYi3AIZOXhzW"
      },
      "execution_count": null,
      "outputs": []
    },
    {
      "cell_type": "code",
      "source": [
        "my_time = int(input(\"Enter the time in seconds: \"))\n",
        "for x in range(my_time, 0, -1):\n",
        "  seconds = x % 60\n",
        "  minutes = x // 60\n",
        "  hours = minutes // 60\n",
        "  minutes = minutes % 60\n",
        "  print(f\"{hours:02}:{minutes:02}:{seconds:02}\")\n",
        "time.sleep(1)\n",
        "print(\"Time's up!\")"
      ],
      "metadata": {
        "colab": {
          "base_uri": "https://localhost:8080/"
        },
        "id": "paqJUAJyXuMP",
        "outputId": "f95b41fb-9fcf-4af2-88ed-151d9b0049fe"
      },
      "execution_count": null,
      "outputs": [
        {
          "output_type": "stream",
          "name": "stdout",
          "text": [
            "Enter the time in seconds: 3\n",
            "00:00:03\n",
            "00:00:02\n",
            "00:00:01\n",
            "Time's up!\n"
          ]
        }
      ]
    },
    {
      "cell_type": "code",
      "source": [
        "#For loops - Execute code a fixed number of times\n",
        "for j in range(1,11):\n",
        "  if j == 5:\n",
        "    break\n",
        "  else:\n",
        "    print(j)"
      ],
      "metadata": {
        "colab": {
          "base_uri": "https://localhost:8080/"
        },
        "id": "dhjTXU4pcCHr",
        "outputId": "06a88e4a-083f-4ee9-a410-81663db5c87e"
      },
      "execution_count": null,
      "outputs": [
        {
          "output_type": "stream",
          "name": "stdout",
          "text": [
            "1\n",
            "2\n",
            "3\n",
            "4\n"
          ]
        }
      ]
    },
    {
      "cell_type": "code",
      "source": [
        "#While loops - Execute code while condition remains true\n",
        "name = input(\"Enter your name:\")\n",
        "while name == \"\":\n",
        "  print(\"Name cannot be empty\")\n",
        "  name = input(\"Enter your name:\")\n",
        "print(f\"Hello {name}\")\n"
      ],
      "metadata": {
        "colab": {
          "base_uri": "https://localhost:8080/"
        },
        "id": "wBf3GY0ofiN-",
        "outputId": "1db4e6f0-c135-46d8-81ec-f249451fe3f8"
      },
      "execution_count": null,
      "outputs": [
        {
          "output_type": "stream",
          "name": "stdout",
          "text": [
            "Enter your name:Ivy\n",
            "Hello Ivy\n"
          ]
        }
      ]
    },
    {
      "cell_type": "code",
      "source": [
        "age =int(input(\"Enter your age: \"))\n",
        "while age < 0:\n",
        "  print(\"Age cannot be negative\")\n",
        "  age = int(input(\"Enter your age: \"))\n",
        "print(f\"You are {age} years old\")"
      ],
      "metadata": {
        "colab": {
          "base_uri": "https://localhost:8080/"
        },
        "id": "Vsn4QDmmibYi",
        "outputId": "ce5bcaba-178a-4459-b680-d17977e72b25"
      },
      "execution_count": null,
      "outputs": [
        {
          "output_type": "stream",
          "name": "stdout",
          "text": [
            "Enter your age: 10\n",
            "You are 10 years old\n"
          ]
        }
      ]
    },
    {
      "cell_type": "code",
      "source": [
        "# Logical Operators\n",
        "temperature = 36\n",
        "is_raining = False\n",
        "if temperature > 35 and is_raining:\n",
        "  print(\"The outdoor event is cancelled\")\n",
        "else:\n",
        "  print(\"The outdoor event is scheduled\")"
      ],
      "metadata": {
        "id": "ih0kI2aqnLKf",
        "colab": {
          "base_uri": "https://localhost:8080/"
        },
        "outputId": "6a19df38-082c-4e92-bfe3-51d96edde56e"
      },
      "execution_count": null,
      "outputs": [
        {
          "output_type": "stream",
          "name": "stdout",
          "text": [
            "The outdoor event is scheduled\n"
          ]
        }
      ]
    },
    {
      "cell_type": "code",
      "source": [
        "# Ternary Operator\n",
        "number = 6\n",
        "result = \"Even\" if number % 2 == 0 else \"Odd\"\n",
        "print(result)"
      ],
      "metadata": {
        "colab": {
          "base_uri": "https://localhost:8080/"
        },
        "id": "_XtY4c6vIOao",
        "outputId": "ce543af6-dbfd-4130-ec52-1ccb7d31e185"
      },
      "execution_count": null,
      "outputs": [
        {
          "output_type": "stream",
          "name": "stdout",
          "text": [
            "Even\n"
          ]
        }
      ]
    },
    {
      "cell_type": "code",
      "source": [
        "#2D lists\n",
        "fruits = [\"apple\", \"banana\", \"cherry\"]\n",
        "vegetables = [\"carrot\", \"lettuce\", \"onion\"]\n",
        "meats = [\"beef\", \"chicken\", \"pork\"]\n",
        "groceries = [fruits, vegetables, meats]\n",
        "print(groceries[0][0])\n",
        "print(groceries[1][1])\n",
        "print(groceries[2][0])"
      ],
      "metadata": {
        "colab": {
          "base_uri": "https://localhost:8080/"
        },
        "id": "HiibBG64JZJ4",
        "outputId": "6e06667f-f5b5-42e2-e753-a55da8b31a1a"
      },
      "execution_count": null,
      "outputs": [
        {
          "output_type": "stream",
          "name": "stdout",
          "text": [
            "apple\n",
            "lettuce\n",
            "beef\n"
          ]
        }
      ]
    },
    {
      "cell_type": "code",
      "source": [
        "num_pad = ((1,2,3),\n",
        "          (4,5,6),\n",
        "          (7,8,9),\n",
        "          (\"*\",0,\"#\"))\n",
        "for row in num_pad:\n",
        "  for num in row:\n",
        "    print(num, end=\" \")"
      ],
      "metadata": {
        "colab": {
          "base_uri": "https://localhost:8080/"
        },
        "id": "T0beff6xLwbz",
        "outputId": "dac255fb-806f-4ceb-c5e6-c226e91e754e"
      },
      "execution_count": null,
      "outputs": [
        {
          "output_type": "stream",
          "name": "stdout",
          "text": [
            "1 2 3 4 5 6 7 8 9 * 0 # "
          ]
        }
      ]
    },
    {
      "cell_type": "code",
      "source": [
        "# python quiz game\n",
        "questions = (\"How many presidents has USA had?:\", \"Who is the fastest man alive?:\", \"What's the most abudant gas in earth's atmosphere?:\", \"How many planets are in the solar system?:\")\n",
        "options = ((\"A. 44\",\"B. 40\",\"C. 10\",\"D. 45\"),\n",
        "           (\"A. Usain Bolt\",\"B. Omanyala\",\"C. Tyson Gay\",\"D. Asafa Powell\"),\n",
        "           (\"A. Oxygen\",\"B. Nitrogen\",\"C. Carbon Dioxide\",\"D. Argon\"),\n",
        "           (\"A. 5\",\"B. 6\",\"C. 7\",\"D. 8\"))\n",
        "answers = (\"D\", \"A\", \"B\", \"D\")\n",
        "guesses = []\n",
        "score = 0\n",
        "question_num = 0\n",
        "for question in questions:\n",
        "  print(\"----------------------\")\n",
        "  print(question)\n",
        "  for option in options[question_num]:\n",
        "    print(option)\n",
        "  question_num += 1\n",
        "  guess = input(\"Enter (A, B, C, or D): \")\n",
        "  guesses.append(guess)\n",
        "  if guess == answers[question_num - 1]:\n",
        "    score += 1\n",
        "    print (\"Correct Answer\")\n",
        "  else:\n",
        "    print(\"Incorrect Answer\")\n",
        "    print(f\"The correct answer is {answers[question_num - 1]}\")\n",
        "\n",
        "print(\"----------------------\")\n",
        "print(\"       RESULTS        \")\n",
        "print(\"----------------------\")\n",
        "print(\"Answers: \", end=\"\")\n",
        "for answer in answers:\n",
        "  print(answer, end=\" \")\n",
        "print()\n",
        "print(\"Guesses: \", end=\"\")\n",
        "for guess in guesses:\n",
        "  print(guess, end=\" \")\n",
        "print()\n",
        "print(f\"Your score is {score}/{len(questions)}\")"
      ],
      "metadata": {
        "colab": {
          "base_uri": "https://localhost:8080/"
        },
        "id": "chqC8YXvMWBe",
        "outputId": "28e47be7-1d5d-45d4-c9ad-5ce9c14963c6"
      },
      "execution_count": null,
      "outputs": [
        {
          "output_type": "stream",
          "name": "stdout",
          "text": [
            "----------------------\n",
            "How many presidents has USA had?:\n",
            "A. 44\n",
            "B. 40\n",
            "C. 10\n",
            "D. 45\n",
            "Enter (A, B, C, or D): D\n",
            "Correct Answer\n",
            "----------------------\n",
            "Who is the fastest man alive?:\n",
            "A. Usain Bolt\n",
            "B. Omanyala\n",
            "C. Tyson Gay\n",
            "D. Asafa Powell\n",
            "Enter (A, B, C, or D): A\n",
            "Correct Answer\n",
            "----------------------\n",
            "What's the most abudant gas in earth's atmosphere?:\n",
            "A. Oxygen\n",
            "B. Nitrogen\n",
            "C. Carbon Dioxide\n",
            "D. Argon\n",
            "Enter (A, B, C, or D): B\n",
            "Correct Answer\n",
            "----------------------\n",
            "How many planets are in the solar system?:\n",
            "A. 5\n",
            "B. 6\n",
            "C. 7\n",
            "D. 8\n",
            "Enter (A, B, C, or D): D\n",
            "Correct Answer\n",
            "----------------------\n",
            "       RESULTS        \n",
            "----------------------\n",
            "Answers: D A B D \n",
            "Guesses: D A B D \n",
            "Your score is 4/4\n"
          ]
        }
      ]
    },
    {
      "cell_type": "code",
      "source": [
        "#Dictionaries\n",
        "Capitals = {\"USA\": \"Washington DC\", \"India\": \"New Delhi\", \"France\": \"Paris\", \"Germany\": \"Berlin\", \"Japan\": \"Tokyo\"}\n",
        "print(Capitals[\"USA\"])\n",
        "print(Capitals.get(\"Germany\"))\n",
        "if Capitals.get(\"UK\") == None:\n",
        "  print(\"UK is not in the dictionary\")\n",
        "else:\n",
        "  print(Capitals[\"UK\"])\n",
        "Capitals.update({\"UK\": \"London\"})\n",
        "print(Capitals)\n",
        "Capitals.pop(\"Germany\")\n",
        "print(Capitals)\n",
        "keys = Capitals.keys()\n",
        "print(keys)\n",
        "values = Capitals.values()\n",
        "print(values)\n",
        "items = Capitals.items()\n",
        "#Dictionaries\n",
        "Capitals = {\"USA\": \"Washington DC\", \"India\": \"New Delhi\", \"France\": \"Paris\", \"Germany\": \"Berlin\", \"Japan\": \"Tokyo\"}\n",
        "print(Capitals[\"USA\"])\n",
        "print(Capitals.get(\"Germany\"))\n",
        "if Capitals.get(\"UK\") == None:\n",
        "  print(\"UK is not in the dictionary\")\n",
        "else:\n",
        "  print(Capitals[\"UK\"])\n",
        "Capitals.update({\"UK\": \"London\"})\n",
        "print(Capitals)\n",
        "Capitals.pop(\"Germany\")\n",
        "print(Capitals)\n",
        "keys = Capitals.keys()\n",
        "print(keys)\n",
        "values = Capitals.values()\n",
        "print(values)\n",
        "items = Capitals.items()\n",
        "print(items)\n",
        "for key, value in Capitals.items():\n",
        "  print(f\"{key}: {value}\")"
      ],
      "metadata": {
        "colab": {
          "base_uri": "https://localhost:8080/"
        },
        "id": "-rZG3cbNRg-A",
        "outputId": "a01633e6-db82-4c35-eac5-f223bd9e530e"
      },
      "execution_count": null,
      "outputs": [
        {
          "output_type": "stream",
          "name": "stdout",
          "text": [
            "Washington DC\n",
            "Berlin\n",
            "UK is not in the dictionary\n",
            "{'USA': 'Washington DC', 'India': 'New Delhi', 'France': 'Paris', 'Germany': 'Berlin', 'Japan': 'Tokyo', 'UK': 'London'}\n",
            "{'USA': 'Washington DC', 'India': 'New Delhi', 'France': 'Paris', 'Japan': 'Tokyo', 'UK': 'London'}\n",
            "dict_keys(['USA', 'India', 'France', 'Japan', 'UK'])\n",
            "dict_values(['Washington DC', 'New Delhi', 'Paris', 'Tokyo', 'London'])\n",
            "Washington DC\n",
            "Berlin\n",
            "UK is not in the dictionary\n",
            "{'USA': 'Washington DC', 'India': 'New Delhi', 'France': 'Paris', 'Germany': 'Berlin', 'Japan': 'Tokyo', 'UK': 'London'}\n",
            "{'USA': 'Washington DC', 'India': 'New Delhi', 'France': 'Paris', 'Japan': 'Tokyo', 'UK': 'London'}\n",
            "dict_keys(['USA', 'India', 'France', 'Japan', 'UK'])\n",
            "dict_values(['Washington DC', 'New Delhi', 'Paris', 'Tokyo', 'London'])\n",
            "dict_items([('USA', 'Washington DC'), ('India', 'New Delhi'), ('France', 'Paris'), ('Japan', 'Tokyo'), ('UK', 'London')])\n",
            "USA: Washington DC\n",
            "India: New Delhi\n",
            "France: Paris\n",
            "Japan: Tokyo\n",
            "UK: London\n"
          ]
        }
      ]
    },
    {
      "cell_type": "code",
      "source": [
        "#Concession stand program\n",
        "menu = {\"pizza\": 400, \"burger\": 300, \"fries\": 200, \"coke\": 100}\n",
        "cart = []\n",
        "total = 0\n",
        "print(\"----------MENU----------\")\n",
        "for item, price in menu.items():\n",
        "  print(f\"{item:10}: KES {price}\")\n",
        "print(\"------------------------\")\n",
        "\n",
        "while True:\n",
        "  item = input(\"Enter an item to buy (q to quit): \")\n",
        "  if item == \"q\":\n",
        "    break\n",
        "  elif item in menu:\n",
        "    cart.append(item)\n",
        "    total += menu[item]\n",
        "    print(f\"{item} added to cart\")\n",
        "  else:\n",
        "    print(\"Invalid item\")\n",
        "print(\"----------CART----------\")\n",
        "for item in cart:\n",
        "  print(item)\n",
        "print(\"------------------------\")\n",
        "print(f\"Total: KES {total}\")"
      ],
      "metadata": {
        "colab": {
          "base_uri": "https://localhost:8080/"
        },
        "id": "-kHzZYDYxEF-",
        "outputId": "4247b324-a87a-460f-f945-c37f9e175c74"
      },
      "execution_count": null,
      "outputs": [
        {
          "output_type": "stream",
          "name": "stdout",
          "text": [
            "----------MENU----------\n",
            "pizza     : KES 400\n",
            "burger    : KES 300\n",
            "fries     : KES 200\n",
            "coke      : KES 100\n",
            "------------------------\n",
            "Enter an item to buy (q to quit): pizza\n",
            "pizza added to cart\n",
            "Enter an item to buy (q to quit): fries\n",
            "fries added to cart\n",
            "Enter an item to buy (q to quit): q\n",
            "----------CART----------\n",
            "pizza\n",
            "fries\n",
            "------------------------\n",
            "Total: KES 600\n"
          ]
        }
      ]
    },
    {
      "cell_type": "code",
      "source": [
        "import random"
      ],
      "metadata": {
        "id": "EiqCad0FzChi"
      },
      "execution_count": null,
      "outputs": []
    },
    {
      "cell_type": "code",
      "source": [
        "low = 1\n",
        "high = 100\n",
        "number = random.randint(low, high)\n",
        "print(number)"
      ],
      "metadata": {
        "colab": {
          "base_uri": "https://localhost:8080/"
        },
        "id": "NI-5_md8zJBT",
        "outputId": "31d03696-36cf-461a-ab9c-3934f0ad7989"
      },
      "execution_count": null,
      "outputs": [
        {
          "output_type": "stream",
          "name": "stdout",
          "text": [
            "79\n"
          ]
        }
      ]
    },
    {
      "cell_type": "code",
      "source": [
        "#Number Guessing Game\n",
        "import random\n",
        "\n",
        "lowest_number = 1\n",
        "highest_number = 100\n",
        "answer = random.randint(lowest_number, highest_number)\n",
        "guesses = 0\n",
        "is_correct = False\n",
        "while not is_correct:\n",
        "  guess = int(input(f\"Guess a number between {lowest_number} and {highest_number}: \"))\n",
        "  if guess == answer:\n",
        "    print(f\"You guessed it in {guesses} guesses\")\n",
        "    is_correct = True\n",
        "  elif guess < answer:\n",
        "    print(\"Too low\")\n",
        "  else:\n",
        "    print(\"Too high\")\n",
        "  guesses += 1\n",
        "print(\"Python number guessing game\")\n",
        "print(f\"select a number between {lowest_number} and {highest_number}\")\n",
        "while is_correct == False:\n",
        "  guess = int(input(f\"Guess a number between {lowest_number} and {highest_number}: \"))\n",
        "  guesses += 1\n",
        "  print (\"That number is in range\")"
      ],
      "metadata": {
        "colab": {
          "base_uri": "https://localhost:8080/",
          "height": 356
        },
        "id": "DnfmMz8F0GSL",
        "outputId": "a303f206-4d05-425c-b553-f243f9068ae8"
      },
      "execution_count": null,
      "outputs": [
        {
          "output_type": "error",
          "ename": "KeyboardInterrupt",
          "evalue": "Interrupted by user",
          "traceback": [
            "\u001b[0;31m---------------------------------------------------------------------------\u001b[0m",
            "\u001b[0;31mKeyboardInterrupt\u001b[0m                         Traceback (most recent call last)",
            "\u001b[0;32m<ipython-input-62-95fc8176295a>\u001b[0m in \u001b[0;36m<cell line: 0>\u001b[0;34m()\u001b[0m\n\u001b[1;32m      8\u001b[0m \u001b[0mis_correct\u001b[0m \u001b[0;34m=\u001b[0m \u001b[0;32mFalse\u001b[0m\u001b[0;34m\u001b[0m\u001b[0;34m\u001b[0m\u001b[0m\n\u001b[1;32m      9\u001b[0m \u001b[0;32mwhile\u001b[0m \u001b[0;32mnot\u001b[0m \u001b[0mis_correct\u001b[0m\u001b[0;34m:\u001b[0m\u001b[0;34m\u001b[0m\u001b[0;34m\u001b[0m\u001b[0m\n\u001b[0;32m---> 10\u001b[0;31m   \u001b[0mguess\u001b[0m \u001b[0;34m=\u001b[0m \u001b[0mint\u001b[0m\u001b[0;34m(\u001b[0m\u001b[0minput\u001b[0m\u001b[0;34m(\u001b[0m\u001b[0;34mf\"Guess a number between {lowest_number} and {highest_number}: \"\u001b[0m\u001b[0;34m)\u001b[0m\u001b[0;34m)\u001b[0m\u001b[0;34m\u001b[0m\u001b[0;34m\u001b[0m\u001b[0m\n\u001b[0m\u001b[1;32m     11\u001b[0m   \u001b[0;32mif\u001b[0m \u001b[0mguess\u001b[0m \u001b[0;34m==\u001b[0m \u001b[0manswer\u001b[0m\u001b[0;34m:\u001b[0m\u001b[0;34m\u001b[0m\u001b[0;34m\u001b[0m\u001b[0m\n\u001b[1;32m     12\u001b[0m     \u001b[0mprint\u001b[0m\u001b[0;34m(\u001b[0m\u001b[0;34mf\"You guessed it in {guesses} guesses\"\u001b[0m\u001b[0;34m)\u001b[0m\u001b[0;34m\u001b[0m\u001b[0;34m\u001b[0m\u001b[0m\n",
            "\u001b[0;32m/usr/local/lib/python3.11/dist-packages/ipykernel/kernelbase.py\u001b[0m in \u001b[0;36mraw_input\u001b[0;34m(self, prompt)\u001b[0m\n\u001b[1;32m   1175\u001b[0m                 \u001b[0;34m\"raw_input was called, but this frontend does not support input requests.\"\u001b[0m\u001b[0;34m\u001b[0m\u001b[0;34m\u001b[0m\u001b[0m\n\u001b[1;32m   1176\u001b[0m             )\n\u001b[0;32m-> 1177\u001b[0;31m         return self._input_request(\n\u001b[0m\u001b[1;32m   1178\u001b[0m             \u001b[0mstr\u001b[0m\u001b[0;34m(\u001b[0m\u001b[0mprompt\u001b[0m\u001b[0;34m)\u001b[0m\u001b[0;34m,\u001b[0m\u001b[0;34m\u001b[0m\u001b[0;34m\u001b[0m\u001b[0m\n\u001b[1;32m   1179\u001b[0m             \u001b[0mself\u001b[0m\u001b[0;34m.\u001b[0m\u001b[0m_parent_ident\u001b[0m\u001b[0;34m[\u001b[0m\u001b[0;34m\"shell\"\u001b[0m\u001b[0;34m]\u001b[0m\u001b[0;34m,\u001b[0m\u001b[0;34m\u001b[0m\u001b[0;34m\u001b[0m\u001b[0m\n",
            "\u001b[0;32m/usr/local/lib/python3.11/dist-packages/ipykernel/kernelbase.py\u001b[0m in \u001b[0;36m_input_request\u001b[0;34m(self, prompt, ident, parent, password)\u001b[0m\n\u001b[1;32m   1217\u001b[0m             \u001b[0;32mexcept\u001b[0m \u001b[0mKeyboardInterrupt\u001b[0m\u001b[0;34m:\u001b[0m\u001b[0;34m\u001b[0m\u001b[0;34m\u001b[0m\u001b[0m\n\u001b[1;32m   1218\u001b[0m                 \u001b[0;31m# re-raise KeyboardInterrupt, to truncate traceback\u001b[0m\u001b[0;34m\u001b[0m\u001b[0;34m\u001b[0m\u001b[0m\n\u001b[0;32m-> 1219\u001b[0;31m                 \u001b[0;32mraise\u001b[0m \u001b[0mKeyboardInterrupt\u001b[0m\u001b[0;34m(\u001b[0m\u001b[0;34m\"Interrupted by user\"\u001b[0m\u001b[0;34m)\u001b[0m \u001b[0;32mfrom\u001b[0m \u001b[0;32mNone\u001b[0m\u001b[0;34m\u001b[0m\u001b[0;34m\u001b[0m\u001b[0m\n\u001b[0m\u001b[1;32m   1220\u001b[0m             \u001b[0;32mexcept\u001b[0m \u001b[0mException\u001b[0m\u001b[0;34m:\u001b[0m\u001b[0;34m\u001b[0m\u001b[0;34m\u001b[0m\u001b[0m\n\u001b[1;32m   1221\u001b[0m                 \u001b[0mself\u001b[0m\u001b[0;34m.\u001b[0m\u001b[0mlog\u001b[0m\u001b[0;34m.\u001b[0m\u001b[0mwarning\u001b[0m\u001b[0;34m(\u001b[0m\u001b[0;34m\"Invalid Message:\"\u001b[0m\u001b[0;34m,\u001b[0m \u001b[0mexc_info\u001b[0m\u001b[0;34m=\u001b[0m\u001b[0;32mTrue\u001b[0m\u001b[0;34m)\u001b[0m\u001b[0;34m\u001b[0m\u001b[0;34m\u001b[0m\u001b[0m\n",
            "\u001b[0;31mKeyboardInterrupt\u001b[0m: Interrupted by user"
          ]
        }
      ]
    },
    {
      "cell_type": "code",
      "source": [
        "#Rock paper Scissors\n",
        "import random\n",
        "options = (\"rock\", \"paper\", \"scissors\")\n",
        "player = None\n",
        "computer = random.choice(options)\n",
        "running = True\n",
        "while running:\n",
        "  player = None\n",
        "  computer = random.choice(options)\n",
        "  while player not in options:\n",
        "    player = input(\"Enter a choice (rock, paper, scissors): \")\n",
        "  print (f\"Player: {player}\")\n",
        "  print (f\"Computer: {computer}\")\n",
        "  if player == computer:\n",
        "    print (\"It's a tie!\")\n",
        "  elif player == \"rock\" and computer == \"scissors\":\n",
        "    print (\"Player wins!\")\n",
        "  elif player == \"paper\" and computer == \"rock\":\n",
        "    print (\"Player wins!\")\n",
        "  elif player == \"scissors\" and computer == \"paper\":\n",
        "    print (\"Player wins!\")\n",
        "  else:\n",
        "    print (\"Computer wins!\")\n",
        "  play_again = input(\"Play again? (y/n): \")\n",
        "  if play_again == \"n\":\n",
        "    running = False\n",
        "print(\"Thanks for playing\")"
      ],
      "metadata": {
        "colab": {
          "base_uri": "https://localhost:8080/"
        },
        "id": "YkW5Smdj2Cpq",
        "outputId": "8fe762ab-c6f9-4235-8ae8-cb47a1b3b502"
      },
      "execution_count": null,
      "outputs": [
        {
          "output_type": "stream",
          "name": "stdout",
          "text": [
            "Enter a choice (rock, paper, scissors): paper\n",
            "Player: paper\n",
            "Computer: rock\n",
            "Player wins!\n",
            "Play again? (y/n): y\n",
            "Enter a choice (rock, paper, scissors): rock\n",
            "Player: rock\n",
            "Computer: paper\n",
            "Computer wins!\n",
            "Play again? (y/n): n\n",
            "Thanks for playing\n"
          ]
        }
      ]
    },
    {
      "cell_type": "code",
      "source": [
        "#Functions\n",
        "def happy_birthday():\n",
        "  print(\"Happy birthday to you\")\n",
        "  print(\"Happy birthday to you\")\n",
        "  print(f\"Happy birthday, dear Keith\")\n",
        "  print(\"Happy birthday to you\")"
      ],
      "metadata": {
        "id": "Z26ddNZ15WAj"
      },
      "execution_count": null,
      "outputs": []
    },
    {
      "cell_type": "code",
      "source": [
        "happy_birthday()\n",
        "happy_birthday()\n",
        "happy_birthday()"
      ],
      "metadata": {
        "colab": {
          "base_uri": "https://localhost:8080/"
        },
        "id": "P2PgbgidTxPJ",
        "outputId": "72539da9-b1b7-4355-f36e-3574d66b84f8"
      },
      "execution_count": null,
      "outputs": [
        {
          "output_type": "stream",
          "name": "stdout",
          "text": [
            "Happy birthday to you\n",
            "Happy birthday to you\n",
            "Happy birthday, dear Keith\n",
            "Happy birthday to you\n",
            "Happy birthday to you\n",
            "Happy birthday to you\n",
            "Happy birthday, dear Keith\n",
            "Happy birthday to you\n",
            "Happy birthday to you\n",
            "Happy birthday to you\n",
            "Happy birthday, dear Keith\n",
            "Happy birthday to you\n"
          ]
        }
      ]
    },
    {
      "cell_type": "code",
      "source": [
        "def display_invoice(name, amount, due_date):\n",
        "  print(f\"Invoice for {name}\")\n",
        "  print(f\"Amount: KES {amount}\")\n",
        "  print(f\"Due date: {due_date}\")"
      ],
      "metadata": {
        "id": "9s0wMWC7U2yV"
      },
      "execution_count": null,
      "outputs": []
    },
    {
      "cell_type": "code",
      "source": [
        "display_invoice(\"Laura\", \"50000\", \"31/3/2025\")"
      ],
      "metadata": {
        "colab": {
          "base_uri": "https://localhost:8080/"
        },
        "id": "qNRIL4QGVOeX",
        "outputId": "36a2c801-59df-486e-fdac-ee04771b648d"
      },
      "execution_count": null,
      "outputs": [
        {
          "output_type": "stream",
          "name": "stdout",
          "text": [
            "Invoice for Laura\n",
            "Amount: KES 50000\n",
            "Due date: 31/3/2025\n"
          ]
        }
      ]
    },
    {
      "cell_type": "code",
      "source": [
        "#Return\n",
        "def add(x,y):\n",
        "  z = x+y\n",
        "  return z\n",
        "\n",
        "def subtract(x,y):\n",
        "  z = x-y\n",
        "  return z\n",
        "\n",
        "def multiply(x,y):\n",
        "  z = x*y\n",
        "  return z\n",
        "\n",
        "def divide(x,y):\n",
        "  z = x/y\n",
        "  return z\n"
      ],
      "metadata": {
        "id": "Krc03zgWVuCD"
      },
      "execution_count": null,
      "outputs": []
    },
    {
      "cell_type": "code",
      "source": [
        "print (add(4,2))\n",
        "print (subtract(4,2))\n",
        "print (multiply(4,2))\n",
        "print (divide(4,2))"
      ],
      "metadata": {
        "colab": {
          "base_uri": "https://localhost:8080/"
        },
        "id": "WSdghdGIWcpZ",
        "outputId": "ebcde976-0d5d-4726-aef6-775cc32acb3a"
      },
      "execution_count": null,
      "outputs": [
        {
          "output_type": "stream",
          "name": "stdout",
          "text": [
            "6\n",
            "2\n",
            "8\n",
            "2.0\n"
          ]
        }
      ]
    },
    {
      "cell_type": "code",
      "source": [
        "def create_name(first_name, last_name):\n",
        "  first_name = first_name.upper()\n",
        "  last_name = last_name.upper()\n",
        "  return first_name + \" \" + last_name\n",
        "full_name = create_name(\"shamim\", \"mwangangi\")\n",
        "print(full_name)"
      ],
      "metadata": {
        "colab": {
          "base_uri": "https://localhost:8080/"
        },
        "id": "D4lndu9Jaf-U",
        "outputId": "275d8eb8-980f-4326-b12a-af8e910d5abc"
      },
      "execution_count": null,
      "outputs": [
        {
          "output_type": "stream",
          "name": "stdout",
          "text": [
            "SHAMIM MWANGANGI\n"
          ]
        }
      ]
    },
    {
      "cell_type": "code",
      "source": [
        "#Default arguments\n",
        "def net_price(list_price, discount=0, tax=0.16):\n",
        "  return list_price * (1 - discount) * (1 + tax)\n",
        "print(net_price(1000))\n",
        "print(net_price(1000, 0.1))"
      ],
      "metadata": {
        "colab": {
          "base_uri": "https://localhost:8080/"
        },
        "id": "TVwFDurzfvIn",
        "outputId": "519fa881-03d3-45d2-99aa-79e762e50aa3"
      },
      "execution_count": null,
      "outputs": [
        {
          "output_type": "stream",
          "name": "stdout",
          "text": [
            "1160.0\n",
            "1044.0\n"
          ]
        }
      ]
    },
    {
      "cell_type": "code",
      "source": [
        "#Keyword arguments\n",
        "def hello (greeting, title, first_name, last_name):\n",
        "  print(f\"{greeting} {title} {first_name} {last_name}\")\n",
        "hello(\"Hello\", title = \"Dr.\", first_name = \"Keith\", last_name = \"Tongi\")\n",
        "hello(\"Hello\", first_name = \"Keith\", last_name = \"Tongi\", title = \"Dr.\")"
      ],
      "metadata": {
        "colab": {
          "base_uri": "https://localhost:8080/"
        },
        "id": "Tdqu7Zv9aT-F",
        "outputId": "770b5c85-0c7d-4b58-f9cd-ed6ebb5fd284"
      },
      "execution_count": null,
      "outputs": [
        {
          "output_type": "stream",
          "name": "stdout",
          "text": [
            "Hello Dr. Keith Tongi\n",
            "Hello Dr. Keith Tongi\n"
          ]
        }
      ]
    },
    {
      "cell_type": "code",
      "source": [
        "def get_phone(country_code, phone_number, area_code):\n",
        "  return f\"+{country_code} ({area_code}) {phone_number}\"\n",
        "phone_no = get_phone(country_code = 254, phone_number = 532802, area_code = 792)\n",
        "print(phone_no)"
      ],
      "metadata": {
        "colab": {
          "base_uri": "https://localhost:8080/"
        },
        "id": "eJG-1RY_bL2C",
        "outputId": "3019dcf3-7f53-4f3c-8cf2-59570759b9ad"
      },
      "execution_count": null,
      "outputs": [
        {
          "output_type": "stream",
          "name": "stdout",
          "text": [
            "+254 (792) 532802\n"
          ]
        }
      ]
    },
    {
      "cell_type": "code",
      "source": [
        "#Arbitrary arguments\n",
        "def add(*args):\n",
        "  total = 0\n",
        "  for arg in args:\n",
        "    total += arg\n",
        "  return total\n",
        "print(add(1,2,3,4,5))"
      ],
      "metadata": {
        "colab": {
          "base_uri": "https://localhost:8080/"
        },
        "id": "-xkqrtFRcD7a",
        "outputId": "3ab8a8cf-6bcf-42e2-c9d6-4942d4fd3b1a"
      },
      "execution_count": null,
      "outputs": [
        {
          "output_type": "stream",
          "name": "stdout",
          "text": [
            "15\n"
          ]
        }
      ]
    },
    {
      "cell_type": "code",
      "source": [
        "def display_name(*args):\n",
        "  for arg in args:\n",
        "    print(arg, end=\" \")\n",
        "display_name(\"Shamim\", \"Loise\", \"Mwangangi\")"
      ],
      "metadata": {
        "colab": {
          "base_uri": "https://localhost:8080/"
        },
        "id": "rR2igKwHdcg5",
        "outputId": "028e16a4-42ea-40fd-9743-ac2c120d2ddc"
      },
      "execution_count": null,
      "outputs": [
        {
          "output_type": "stream",
          "name": "stdout",
          "text": [
            "Shamim Loise Mwangangi "
          ]
        }
      ]
    },
    {
      "cell_type": "code",
      "source": [
        "def print_address(**kwargs):\n",
        "  for key, value in kwargs.items():\n",
        "    print(f\"{key}: {value}\")\n",
        "print_address(street = \"Kumbe road\", city = \"Nairobi\", country = \"Kenya\", zipcode = \"00100\")"
      ],
      "metadata": {
        "colab": {
          "base_uri": "https://localhost:8080/"
        },
        "id": "4ObxlOOOdz0h",
        "outputId": "37b0364d-d19d-42a6-d821-5c359c2926af"
      },
      "execution_count": null,
      "outputs": [
        {
          "output_type": "stream",
          "name": "stdout",
          "text": [
            "street: Kumbe road\n",
            "city: Nairobi\n",
            "country: Kenya\n",
            "zipcode: 00100\n"
          ]
        }
      ]
    },
    {
      "cell_type": "code",
      "source": [
        "def shipping_label(*args, **kwargs):\n",
        "  for arg in args:\n",
        "    print(arg, end=\" \")\n",
        "  print()\n",
        "def shipping_label(*args, **kwargs):\n",
        "  for arg in args:\n",
        "    print(arg, end=\" \")\n",
        "  print()\n",
        "  for key, value in kwargs.items():\n",
        "    print(f\"{key}: {value}\")\n",
        "  print(f\"{kwargs.get('street')}\")\n",
        "shipping_label(\"Shamim\", \"Loise\", \"Mwangangi\", street = \"Kumbe road\", city = \"Nairobi\", country = \"Kenya\", zipcode = \"00100\")\n"
      ],
      "metadata": {
        "colab": {
          "base_uri": "https://localhost:8080/"
        },
        "id": "g8VGkJ0AfCmu",
        "outputId": "2d7350a2-97b5-45bf-861d-354540ccdff0"
      },
      "execution_count": null,
      "outputs": [
        {
          "output_type": "stream",
          "name": "stdout",
          "text": [
            "Shamim Loise Mwangangi \n",
            "street: Kumbe road\n",
            "city: Nairobi\n",
            "country: Kenya\n",
            "zipcode: 00100\n",
            "Kumbe road\n"
          ]
        }
      ]
    },
    {
      "cell_type": "code",
      "source": [
        "#Iterables\n",
        "numbers = [1, 2, 3, 4, 5]\n",
        "for number in reversed (numbers):\n",
        "  print(number, end=\"-\")"
      ],
      "metadata": {
        "colab": {
          "base_uri": "https://localhost:8080/"
        },
        "id": "fauEvqU7DStn",
        "outputId": "66c641dd-07cc-4e0a-df46-ed86c98aa674"
      },
      "execution_count": null,
      "outputs": [
        {
          "output_type": "stream",
          "name": "stdout",
          "text": [
            "5-4-3-2-1-"
          ]
        }
      ]
    },
    {
      "cell_type": "code",
      "source": [
        "fruits = {\"apple\", \"orange\", \"banana\", \"mango\"}\n",
        "for fruit in fruits:\n",
        "  print (fruit)"
      ],
      "metadata": {
        "colab": {
          "base_uri": "https://localhost:8080/"
        },
        "id": "W2s-1HwiLhLq",
        "outputId": "f548d754-1ebc-4ba1-d659-a15df5184670"
      },
      "execution_count": null,
      "outputs": [
        {
          "output_type": "stream",
          "name": "stdout",
          "text": [
            "orange\n",
            "apple\n",
            "banana\n",
            "mango\n"
          ]
        }
      ]
    },
    {
      "cell_type": "code",
      "source": [],
      "metadata": {
        "id": "amxUIvXiMjzG"
      },
      "execution_count": null,
      "outputs": []
    }
  ]
}