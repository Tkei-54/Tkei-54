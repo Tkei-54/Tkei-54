{
  "nbformat": 4,
  "nbformat_minor": 0,
  "metadata": {
    "colab": {
      "provenance": [],
      "authorship_tag": "ABX9TyNiUgSLZgc0KjV+uNUpOLK2",
      "include_colab_link": true
    },
    "kernelspec": {
      "name": "python3",
      "display_name": "Python 3"
    },
    "language_info": {
      "name": "python"
    }
  },
  "cells": [
    {
      "cell_type": "markdown",
      "metadata": {
        "id": "view-in-github",
        "colab_type": "text"
      },
      "source": [
        "<a href=\"https://colab.research.google.com/github/Tkei-54/Tkei-54/blob/main/Statistics_for_dummies.ipynb\" target=\"_parent\"><img src=\"https://colab.research.google.com/assets/colab-badge.svg\" alt=\"Open In Colab\"/></a>"
      ]
    },
    {
      "cell_type": "code",
      "execution_count": null,
      "metadata": {
        "id": "9bV_1dWMC9Il"
      },
      "outputs": [],
      "source": [
        "data = [10,20,30,40,50,60,70,70, 70, 80,90]"
      ]
    },
    {
      "cell_type": "code",
      "source": [
        "#mean\n",
        "import statistics\n",
        "statisticsdata = statistics.mean(data)\n",
        "print(statisticsdata)"
      ],
      "metadata": {
        "colab": {
          "base_uri": "https://localhost:8080/"
        },
        "id": "BnnHT9naDyJE",
        "outputId": "fea377fc-d9d3-4a22-c29c-85bcf6c8954b"
      },
      "execution_count": null,
      "outputs": [
        {
          "output_type": "stream",
          "name": "stdout",
          "text": [
            "53.63636363636363\n"
          ]
        }
      ]
    },
    {
      "cell_type": "code",
      "source": [
        "#median\n",
        "import statistics\n",
        "statisticsdata = statistics.median(data)\n",
        "print(statisticsdata)"
      ],
      "metadata": {
        "colab": {
          "base_uri": "https://localhost:8080/"
        },
        "id": "s0isJLMCD-R2",
        "outputId": "a21abc06-a7ef-45d4-8405-1eb7c649142d"
      },
      "execution_count": null,
      "outputs": [
        {
          "output_type": "stream",
          "name": "stdout",
          "text": [
            "60\n"
          ]
        }
      ]
    },
    {
      "cell_type": "code",
      "source": [
        "#mode\n",
        "import statistics\n",
        "statisticsdata = statistics.mode(data)\n",
        "print(statisticsdata)"
      ],
      "metadata": {
        "colab": {
          "base_uri": "https://localhost:8080/"
        },
        "id": "B_KWhEZqESvM",
        "outputId": "96732ef2-11cc-4f29-b8a5-a5e1d555a7b5"
      },
      "execution_count": null,
      "outputs": [
        {
          "output_type": "stream",
          "name": "stdout",
          "text": [
            "70\n"
          ]
        }
      ]
    },
    {
      "cell_type": "code",
      "source": [
        "import numpy as np\n",
        "mean = np.mean(data)\n",
        "print(mean)\n",
        "median = np.median(data)\n",
        "print(median)\n",
        "mode = statistics.mode(data)\n",
        "print(mode)"
      ],
      "metadata": {
        "colab": {
          "base_uri": "https://localhost:8080/"
        },
        "id": "EC4Xi-3lFvJO",
        "outputId": "08eb57d3-180f-4f7b-dceb-32e2ca20180b"
      },
      "execution_count": null,
      "outputs": [
        {
          "output_type": "stream",
          "name": "stdout",
          "text": [
            "53.63636363636363\n",
            "60.0\n",
            "70\n"
          ]
        }
      ]
    },
    {
      "cell_type": "code",
      "source": [
        "#Measures of dispersion\n",
        "sample_data = [10,20,20,20,30,40,40,40,50,50,60,70,80,90]"
      ],
      "metadata": {
        "id": "TCnxMwaRGUvK"
      },
      "execution_count": null,
      "outputs": []
    },
    {
      "cell_type": "code",
      "source": [
        "range = np.max(sample_data) - np.min(sample_data)\n",
        "print(range)\n",
        "mean_deviation = np.mean(abs(sample_data - np.mean(sample_data)))\n",
        "print(mean_deviation)\n",
        "standard_deviation = np.std(sample_data)\n",
        "print(standard_deviation)\n",
        "variance = np.mean((sample_data - np.mean(sample_data)) ** 2)\n",
        "print(variance)\n",
        "quartile_deviation = np.std(sample_data) * 1.5\n",
        "print(quartile_deviation)\n",
        "interquartile_range = np.percentile(sample_data, 75) - np.percentile(sample_data, 25)\n",
        "print(interquartile_range)"
      ],
      "metadata": {
        "colab": {
          "base_uri": "https://localhost:8080/"
        },
        "id": "o3nXP4zJIQoJ",
        "outputId": "044f9a04-f7a2-44a7-ec21-a16fcc33d114"
      },
      "execution_count": null,
      "outputs": [
        {
          "output_type": "stream",
          "name": "stdout",
          "text": [
            "80\n",
            "19.18367346938776\n",
            "23.211538298959887\n",
            "538.7755102040817\n",
            "34.817307448439834\n",
            "35.0\n"
          ]
        }
      ]
    }
  ]
}